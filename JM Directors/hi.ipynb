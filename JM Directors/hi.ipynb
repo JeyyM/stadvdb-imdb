{
 "cells": [
  {
   "cell_type": "markdown",
   "id": "ec8e7aea",
   "metadata": {},
   "source": [
    "# Header\n",
    "Query Task\n",
    "\n",
    "| **Version** | **Execution Time (s)** | **Optimization Strategy / Notes** |\n",
    "|--------------|-----------------------:|-----------------------------------|\n",
    "| Naïve        | 3.438                 | Full table scan with group-by on all years and genres. |\n",
    "| Version 2    | 3.329                 | Added filters for year, genre, and non-null values. |\n",
    "| Optimized    | 3.329 (same)          | Applied composite indexes on (`startYear`, `averageRating`, `genreID`). |\n"
   ]
  },
  {
   "cell_type": "markdown",
   "id": "bf19720d",
   "metadata": {},
   "source": []
  }
 ],
 "metadata": {
  "language_info": {
   "name": "python"
  }
 },
 "nbformat": 4,
 "nbformat_minor": 5
}
