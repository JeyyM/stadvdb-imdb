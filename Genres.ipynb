{
 "cells": [
  {
   "cell_type": "markdown",
   "id": "2bd216bc",
   "metadata": {},
   "source": [
    "**Average Rating over time using startYear**\n",
    "\n",
    "| **Version** | **Execution Time** | **Optimization Strategies Utilized** |\n",
    "|----------|----------|----------|\n",
    "| Naive | 334 seconds | Naive solution, utilized group by and order by with the AVG function on (averageRating) |\n",
    "| First Update | 3.438 seconds | First optimization, utilized WHERE statements to filter null data, genres, and years |\n",
    "| Optimized | 3.329 seconds (no difference) | Final optimized version, indexes were added on (genreID, tconst), (startYear, averageRating), and (genreName) |"
   ]
  },
  {
   "cell_type": "markdown",
   "id": "1c98ed51",
   "metadata": {},
   "source": [
    "Naive "
   ]
  },
  {
   "cell_type": "code",
   "execution_count": null,
   "id": "a305222d",
   "metadata": {},
   "outputs": [],
   "source": [
    "%%sql\n",
    "\n",
    "SELECT  startYear, avg(averageRating), genreName\n",
    "FROM title_ft\n",
    "JOIN title_genre_bridge ON title_ft.tconst = title_genre_bridge.tconst\n",
    "JOIN genre_dt ON title_genre_bridge.genreID = genre_dt.genreID\n",
    "GROUP BY startYear, genreName\n",
    "ORDER BY startYear ASC, genreName;"
   ]
  },
  {
   "cell_type": "markdown",
   "id": "3f5e7cec",
   "metadata": {},
   "source": [
    "First Optimization"
   ]
  },
  {
   "cell_type": "code",
   "execution_count": null,
   "id": "d1027f4f",
   "metadata": {},
   "outputs": [],
   "source": [
    "%%sql\n",
    "\n",
    "SELECT tf.startYear,\n",
    "       AVG(tf.averageRating) AS avg_rating,\n",
    "       gd.genreName\n",
    "FROM title_ft tf\n",
    "JOIN title_genre_bridge tgb ON tf.tconst = tgb.tconst\n",
    "JOIN genre_dt gd ON tgb.genreID = gd.genreID\n",
    "WHERE tf.startYear IS NOT NULL AND averageRating IS NOT NULL AND gd.genreName = 'Action' AND tf.startYear > 1999 AND tf.startYear < 2020\n",
    "GROUP BY tf.startYear, gd.genreName\n",
    "ORDER BY tf.startYear, gd.genreName;"
   ]
  },
  {
   "cell_type": "markdown",
   "id": "e60f2dab",
   "metadata": {},
   "source": [
    "Final Optimization With Indexes"
   ]
  },
  {
   "cell_type": "code",
   "execution_count": null,
   "id": "e9e58506",
   "metadata": {},
   "outputs": [],
   "source": [
    "%%sql \n",
    "\n",
    "ALTER TABLE title_genre_bridge\n",
    "  ADD INDEX idx_bridge_genreid_tconst (genreID, tconst);\n",
    "  \n",
    "ALTER TABLE title_ft\n",
    "  ADD INDEX idx_tf_startYear_avgRating (startYear, averageRating);  \n",
    "\n",
    "ALTER TABLE genre_dt\n",
    "  ADD INDEX idx_genre_genrename (genreName);\n",
    "  \n",
    "SELECT tf.startYear,\n",
    "       AVG(tf.averageRating) AS avg_rating,\n",
    "       gd.genreName\n",
    "FROM title_ft tf\n",
    "JOIN title_genre_bridge tgb ON tf.tconst = tgb.tconst\n",
    "JOIN genre_dt gd ON tgb.genreID = gd.genreID\n",
    "WHERE tf.startYear IS NOT NULL AND averageRating IS NOT NULL AND gd.genreName = 'Action' AND tf.startYear > 1999 AND tf.startYear < 2020\n",
    "GROUP BY tf.startYear, gd.genreName\n",
    "ORDER BY tf.startYear, gd.genreName;"
   ]
  },
  {
   "cell_type": "markdown",
   "id": "3921cba4",
   "metadata": {},
   "source": [
    "=-=-=-=-=-=-=-=-=-=-=-=-=-=-=-=-=-=-=-=-=-=-=-=-=-=-=-=-=-=-=-=-=-=-=-=-="
   ]
  },
  {
   "cell_type": "markdown",
   "id": "18d8cea2",
   "metadata": {},
   "source": [
    "\n",
    "\n",
    "\n",
    "\n",
    "**Average numVotes over timer**\n",
    "\n",
    "| **Version** | **Execution Time** | **Optimization Strategies Utilized** |\n",
    "|----------|----------|----------|\n",
    "| Naive | 340 seconds | Naive solution, utilized group by and order by with the AVG function on (numVotes) |\n",
    "| First Update | 3.485 seconds | First optimization, utilized WHERE statements to filter null data, genres, and years |\n",
    "| Optimized | 2.765 seconds (minor difference) | Final optimized version, indexes were added on (genreID, tconst), (startYear, numVotes), and (genreName) |"
   ]
  },
  {
   "cell_type": "markdown",
   "id": "53b805c1",
   "metadata": {},
   "source": [
    "Naive"
   ]
  },
  {
   "cell_type": "code",
   "execution_count": null,
   "id": "4d9209c4",
   "metadata": {},
   "outputs": [],
   "source": [
    "%%sql\n",
    "\n",
    "SELECT  startYear, avg(numVotes), genreName\n",
    "FROM title_ft\n",
    "JOIN title_genre_bridge ON title_ft.tconst = title_genre_bridge.tconst\n",
    "JOIN genre_dt ON title_genre_bridge.genreID = genre_dt.genreID\n",
    "GROUP BY startYear, genreName\n",
    "ORDER BY startYear ASC, genreName; "
   ]
  },
  {
   "cell_type": "markdown",
   "id": "82f07f8f",
   "metadata": {},
   "source": [
    "First Optimization"
   ]
  },
  {
   "cell_type": "code",
   "execution_count": null,
   "id": "03b7016f",
   "metadata": {},
   "outputs": [],
   "source": [
    "%%sql\n",
    "\n",
    "SELECT tf.startYear, AVG(tf.numVotes) AS avg_votes, gd.genreName\n",
    "FROM title_genre_bridge tgb\n",
    "JOIN title_ft tf ON tgb.tconst = tf.tconst\n",
    "JOIN genre_dt gd ON tgb.genreID = gd.genreID\n",
    "WHERE tf.startYear IS NOT NULL\n",
    "\tAND gd.genreName = 'Fantasy'\n",
    "    AND tf.startYear < 2022\n",
    "    AND tf.startYear > 2002\n",
    "GROUP BY tf.startYear, gd.genreName\n",
    "ORDER BY tf.startYear, gd.genreName;"
   ]
  },
  {
   "cell_type": "markdown",
   "id": "7b5bd605",
   "metadata": {},
   "source": [
    "Final Optimization With Indexes"
   ]
  },
  {
   "cell_type": "code",
   "execution_count": null,
   "id": "466e5c67",
   "metadata": {},
   "outputs": [],
   "source": [
    "%%sql\n",
    "\n",
    "ALTER TABLE genre_dt\n",
    "  ADD INDEX idx_genre_genrename (genreName);\n",
    "\n",
    "ALTER TABLE title_genre_bridge\n",
    "  ADD INDEX idx_bridge_genreid_tconst (genreID, tconst);\n",
    "\n",
    "ALTER TABLE title_ft\n",
    "  ADD INDEX idx_tf_startYear_numVotes (startYear, numVotes);\n",
    "  \n",
    "SELECT tf.startYear, AVG(tf.numVotes) AS avg_votes, gd.genreName\n",
    "FROM title_genre_bridge tgb\n",
    "JOIN title_ft tf ON tgb.tconst = tf.tconst\n",
    "JOIN genre_dt gd ON tgb.genreID = gd.genreID\n",
    "WHERE tf.startYear IS NOT NULL\n",
    "\tAND gd.genreName = 'Fantasy'\n",
    "    AND tf.startYear < 2022\n",
    "    AND tf.startYear > 2002\n",
    "GROUP BY tf.startYear, gd.genreName\n",
    "ORDER BY tf.startYear, gd.genreName;\n"
   ]
  },
  {
   "cell_type": "markdown",
   "id": "1f1f325d",
   "metadata": {},
   "source": [
    "=-=-=-=-=-=-=-=-=-=-=-=-=-=-=-=-=-=-=-=-=-=-=-=-=-=-=-=-=-=-=-=-=-=-=-=-="
   ]
  },
  {
   "cell_type": "markdown",
   "id": "c77022f5",
   "metadata": {},
   "source": [
    "\n",
    "\n",
    "\n",
    "\n",
    "**Proportion share of all genres over decade periods**\n",
    "\n",
    "| **Version** | **Execution Time** | **Optimization Strategies Utilized** |\n",
    "|----------|----------|----------|\n",
    "| Naive | 347 seconds | Naive solution, utilized group by and order by with the FLOOR and COUNT functions on (startYear) and (*) respectively|\n",
    "| First Update | 8.935 seconds | First optimization, utilized WHERE statements to filter null data, genres, and years |\n",
    "| Optimized | 6.578 seconds (minor difference) | Final optimized version, indexes were added on (genreID, tconst), (startYear), and (genreName) |"
   ]
  },
  {
   "cell_type": "markdown",
   "id": "d34db30d",
   "metadata": {},
   "source": [
    "Naive"
   ]
  },
  {
   "cell_type": "code",
   "execution_count": null,
   "id": "db27476a",
   "metadata": {},
   "outputs": [],
   "source": [
    "%%sql\n",
    "\n",
    "\n",
    "select s.decade, d.genreName, d.co, s.tot, (d.co / s.tot) as prop\n",
    "from\n",
    "(SELECT  (FLOOR(startYear / 10) * 10) AS decade, count(*) as tot -- total per decade\n",
    "FROM imdb.title_ft\n",
    "group by decade\n",
    "order by decade) as s\n",
    "join (\n",
    "SELECT  (FLOOR(startYear / 10) * 10) AS decade, count(*) as co, genre_dt.genreName -- total per decade per genre\n",
    "FROM imdb.title_ft\n",
    "JOIN title_genre_bridge ON title_ft.tconst = title_genre_bridge.tconst\n",
    "JOIN genre_dt ON title_genre_bridge.genreID = genre_dt.genreID\n",
    "group by decade, genreName\n",
    "order by decade) as d\n",
    "ON s.decade = d.decade\n",
    "order by s.decade;"
   ]
  },
  {
   "cell_type": "markdown",
   "id": "fe7b62df",
   "metadata": {},
   "source": [
    "First Optimization"
   ]
  },
  {
   "cell_type": "code",
   "execution_count": null,
   "id": "e7523bb6",
   "metadata": {},
   "outputs": [],
   "source": [
    "%%sql\n",
    "\n",
    "select s.decade, d.genreName, d.co, s.tot, (d.co / s.tot) as prop\n",
    "from\n",
    "(SELECT  (FLOOR(startYear / 10) * 10) AS decade, count(*) as tot -- total per decade\n",
    "FROM imdb.title_ft\n",
    "WHERE startYear is not null \n",
    "\tAND startYear > 1999\n",
    "    AND startYear < 2021\n",
    "    \n",
    "group by decade\n",
    "order by decade) as s\n",
    "join (\n",
    "SELECT  (FLOOR(startYear / 10) * 10) AS decade, count(*) as co, genre_dt.genreName -- total per decade per genre\n",
    "FROM imdb.title_ft\n",
    "JOIN title_genre_bridge ON title_ft.tconst = title_genre_bridge.tconst\n",
    "JOIN genre_dt ON title_genre_bridge.genreID = genre_dt.genreID\n",
    "WHERE startYear is not null\n",
    "\tAND genreName = 'Action'\n",
    "group by decade, genreName\n",
    "order by decade) as d\n",
    "ON s.decade = d.decade\n",
    "order by s.decade;"
   ]
  },
  {
   "cell_type": "markdown",
   "id": "5bafa48a",
   "metadata": {},
   "source": [
    "Final Optimization With Indexes"
   ]
  },
  {
   "cell_type": "code",
   "execution_count": null,
   "id": "52f20d86",
   "metadata": {},
   "outputs": [],
   "source": [
    "%%sql\n",
    "\n",
    "ALTER TABLE genre_dt\n",
    "  ADD INDEX idx_genre_genrename (genreName);\n",
    "\n",
    "ALTER TABLE title_genre_bridge\n",
    "  ADD INDEX idx_bridge_genreid_tconst (genreID, tconst);\n",
    "\n",
    "ALTER TABLE imdb.title_ft\n",
    "  ADD INDEX idx_tf_startYear (startYear);\n",
    "\n",
    "select s.decade, d.genreName, d.co, s.tot, (d.co / s.tot) as prop\n",
    "from\n",
    "(SELECT  (FLOOR(startYear / 10) * 10) AS decade, count(*) as tot -- total per decade\n",
    "FROM imdb.title_ft\n",
    "WHERE startYear is not null \n",
    "\tAND startYear > 1999\n",
    "    AND startYear < 2021\n",
    "    \n",
    "group by decade\n",
    "order by decade) as s\n",
    "join (\n",
    "SELECT  (FLOOR(startYear / 10) * 10) AS decade, count(*) as co, genre_dt.genreName -- total per decade per genre\n",
    "FROM imdb.title_ft\n",
    "JOIN title_genre_bridge ON title_ft.tconst = title_genre_bridge.tconst\n",
    "JOIN genre_dt ON title_genre_bridge.genreID = genre_dt.genreID\n",
    "WHERE startYear is not null\n",
    "\tAND genreName = 'Action'\n",
    "group by decade, genreName\n",
    "order by decade) as d\n",
    "ON s.decade = d.decade\n",
    "order by s.decade;"
   ]
  },
  {
   "cell_type": "markdown",
   "id": "fc43c206",
   "metadata": {},
   "source": [
    "=-=-=-=-=-=-=-=-=-=-=-=-=-=-=-=-=-=-=-=-=-=-=-=-=-=-=-=-=-=-=-=-=-=-=-=-="
   ]
  },
  {
   "cell_type": "markdown",
   "id": "c9a1b15c",
   "metadata": {},
   "source": [
    "\n",
    "\n",
    "\n",
    "\n",
    "**Top movies of time period**\n",
    "\n",
    "| **Version** | **Execution Time** | **Optimization Strategies Utilized** |\n",
    "|----------|----------|----------|\n",
    "| Naive | 912 seconds | Naive solution, utilized GROUP BY and ORDER BY with the MAX function on (averageRating) inside a subquery |\n",
    "| First Update | 23.281 seconds | First optimization, utilized PARTITION BY on (startYear) and ROW_NUMBER to get the highest rated movie. WHERE statements to filter out null data and number of votes |\n",
    "| Optimized | 23.484 seconds (no difference) | Final optimized version, indexes were added on (genreID, tconst) and (startYear, averageRating, and numVotes) |"
   ]
  },
  {
   "cell_type": "markdown",
   "id": "f97d9154",
   "metadata": {},
   "source": [
    "Naive"
   ]
  },
  {
   "cell_type": "code",
   "execution_count": null,
   "id": "648e7a04",
   "metadata": {},
   "outputs": [],
   "source": [
    "%%sql\n",
    "\n",
    "SELECT \n",
    "  t.startYear,\n",
    "  t.primaryTitle,\n",
    "  t.averageRating AS highest,\n",
    "  gd.genreName\n",
    "FROM title_genre_bridge tgb\n",
    "JOIN title_ft t ON tgb.tconst = t.tconst\n",
    "JOIN genre_dt gd ON tgb.genreID = gd.genreID\n",
    "WHERE (t.startYear, t.averageRating) IN (\n",
    "  SELECT startYear, MAX(averageRating)\n",
    "  FROM title_ft\n",
    "  GROUP BY startYear\n",
    ")\n",
    "ORDER BY t.startYear;"
   ]
  },
  {
   "cell_type": "markdown",
   "id": "725fec00",
   "metadata": {},
   "source": [
    "First Optimization"
   ]
  },
  {
   "cell_type": "code",
   "execution_count": null,
   "id": "0211e32a",
   "metadata": {},
   "outputs": [],
   "source": [
    "%%sql\n",
    "\n",
    "WITH ranked_titles AS (\n",
    "  SELECT\n",
    "    t.tconst,\n",
    "    t.startYear,\n",
    "    t.primaryTitle,\n",
    "    t.averageRating,\n",
    "    ROW_NUMBER() OVER (\n",
    "      PARTITION BY t.startYear\n",
    "      ORDER BY t.averageRating DESC\n",
    "    ) AS rnk\n",
    "  FROM title_ft t\n",
    "  WHERE t.averageRating IS NOT NULL\n",
    "    AND t.numVotes > 1000\n",
    ")\n",
    "SELECT\n",
    "  rt.startYear,\n",
    "  rt.primaryTitle,\n",
    "  rt.averageRating AS highest,\n",
    "  gd.genreName\n",
    "FROM ranked_titles rt\n",
    "JOIN title_genre_bridge tgb ON rt.tconst = tgb.tconst\n",
    "JOIN genre_dt gd ON tgb.genreID = gd.genreID\n",
    "WHERE rt.rnk = 1\n",
    "ORDER BY rt.startYear;"
   ]
  },
  {
   "cell_type": "markdown",
   "id": "bb4bce92",
   "metadata": {},
   "source": [
    "Final Optimization With Indexes"
   ]
  },
  {
   "cell_type": "code",
   "execution_count": null,
   "id": "41ac0515",
   "metadata": {},
   "outputs": [],
   "source": [
    "%%sql\n",
    "\n",
    "CREATE INDEX idx_title_ft_startyear_rating_votes\n",
    "ON title_ft (startYear, averageRating DESC, numVotes);\n",
    "\n",
    "CREATE INDEX idx_tgb_tconst_genreid\n",
    "ON title_genre_bridge (tconst, genreID);\n",
    "\n",
    "WITH ranked_titles AS (\n",
    "  SELECT\n",
    "    t.tconst,\n",
    "    t.startYear,\n",
    "    t.primaryTitle,\n",
    "    t.averageRating,\n",
    "    ROW_NUMBER() OVER (\n",
    "      PARTITION BY t.startYear\n",
    "      ORDER BY t.averageRating DESC\n",
    "    ) AS rnk\n",
    "  FROM title_ft t\n",
    "  WHERE t.averageRating IS NOT NULL\n",
    "    AND t.numVotes > 1000\n",
    ")\n",
    "SELECT\n",
    "  rt.startYear,\n",
    "  rt.primaryTitle,\n",
    "  rt.averageRating AS highest,\n",
    "  gd.genreName\n",
    "FROM ranked_titles rt\n",
    "JOIN title_genre_bridge tgb ON rt.tconst = tgb.tconst\n",
    "JOIN genre_dt gd ON tgb.genreID = gd.genreID\n",
    "WHERE rt.rnk = 1\n",
    "ORDER BY rt.startYear;"
   ]
  },
  {
   "cell_type": "markdown",
   "id": "006d8e7a",
   "metadata": {},
   "source": [
    "=-=-=-=-=-=-=-=-=-=-=-=-=-=-=-=-=-=-=-=-=-=-=-=-=-=-=-=-=-=-=-=-=-=-=-=-="
   ]
  },
  {
   "cell_type": "markdown",
   "id": "06fb087d",
   "metadata": {},
   "source": [
    "\n",
    "\n",
    "\n",
    "\n",
    "**Average runtimeMinutes over startYear**\n",
    "\n",
    "| **Version** | **Execution Time** | **Optimization Strategies Utilized** |\n",
    "|----------|----------|----------|\n",
    "| Naive | 330 seconds | Naive solution, utilized GROUP BY and ORDER BY with the AVG function on (runtimeMinutes) |\n",
    "| First Update | 9.297 seconds | First optimization, utilized WHERE statements to filter out null data, genres, and years|\n",
    "| Optimized | 3.047 seconds (major difference) | Final optimized version, indexes were added on (genreID, tconst), (startYear, runtimeMinutes, and tconst), and (genreName, genreID) |"
   ]
  },
  {
   "cell_type": "markdown",
   "id": "2fe26c3c",
   "metadata": {},
   "source": [
    "Naive"
   ]
  },
  {
   "cell_type": "code",
   "execution_count": null,
   "id": "63d6375a",
   "metadata": {},
   "outputs": [],
   "source": [
    "%%sql\n",
    "\n",
    "explain SELECT startYear, avg(runtimeMinutes), genreName\n",
    "FROM title_ft\n",
    "JOIN title_genre_bridge ON title_ft.tconst = title_genre_bridge.tconst\n",
    "JOIN genre_dt ON title_genre_bridge.genreID = genre_dt.genreID\n",
    "GROUP BY startYear, genreName\n",
    "ORDER BY startYear ASC, genreName; "
   ]
  },
  {
   "cell_type": "markdown",
   "id": "072808e2",
   "metadata": {},
   "source": [
    "First Optimization"
   ]
  },
  {
   "cell_type": "code",
   "execution_count": null,
   "id": "26f4f972",
   "metadata": {},
   "outputs": [],
   "source": [
    "%%sql\n",
    "\n",
    "SELECT\n",
    "  tf.startYear,\n",
    "  AVG(tf.runtimeMinutes) AS avg_runtime,\n",
    "  gd.genreName\n",
    "FROM title_genre_bridge tgb\n",
    "JOIN title_ft tf ON tgb.tconst = tf.tconst\n",
    "JOIN genre_dt  gd ON tgb.genreID = gd.genreID\n",
    "WHERE tf.startYear IS NOT NULL\n",
    "  AND tf.runtimeMinutes IS NOT NULL\n",
    "  AND tf.startYear < 2020\n",
    "  AND tf.startYear > 2000\n",
    "  AND gd.genreName = 'Action'\n",
    "GROUP BY tf.startYear, gd.genreName\n",
    "ORDER BY tf.startYear, gd.genreName;"
   ]
  },
  {
   "cell_type": "markdown",
   "id": "07a748f6",
   "metadata": {},
   "source": [
    "Final Optimization With Indexes"
   ]
  },
  {
   "cell_type": "code",
   "execution_count": null,
   "id": "6f854d91",
   "metadata": {},
   "outputs": [],
   "source": [
    "%%sql\n",
    "\n",
    "CREATE INDEX idx_title_ft_startYear_runtime_tconst \n",
    "ON title_ft (startYear, runtimeMinutes, tconst);\n",
    "\n",
    "CREATE INDEX idx_tgb_tconst_genreID \n",
    "ON title_genre_bridge (tconst, genreID);\n",
    "\n",
    "CREATE INDEX idx_genreName_genreID\n",
    "ON genre_dt (genreName, genreID);\n",
    "\n",
    "SELECT\n",
    "  tf.startYear,\n",
    "  AVG(tf.runtimeMinutes) AS avg_runtime,\n",
    "  gd.genreName\n",
    "FROM title_genre_bridge tgb\n",
    "JOIN title_ft tf ON tgb.tconst = tf.tconst\n",
    "JOIN genre_dt  gd ON tgb.genreID = gd.genreID\n",
    "WHERE tf.startYear IS NOT NULL\n",
    "  AND tf.runtimeMinutes IS NOT NULL\n",
    "  AND tf.startYear < 2020\n",
    "  AND tf.startYear > 2000\n",
    "  AND gd.genreName = 'Action'\n",
    "GROUP BY tf.startYear, gd.genreName\n",
    "ORDER BY tf.startYear, gd.genreName;"
   ]
  },
  {
   "cell_type": "markdown",
   "id": "706b4722",
   "metadata": {},
   "source": [
    "=-=-=-=-=-=-=-=-=-=-=-=-=-=-=-=-=-=-=-=-=-=-=-=-=-=-=-=-=-=-=-=-=-=-=-=-="
   ]
  },
  {
   "cell_type": "markdown",
   "id": "b9129047",
   "metadata": {},
   "source": [
    "\n",
    "\n",
    "\n",
    "\n",
    "**Filter by type**\n",
    "\n",
    "| **Version** | **Execution Time** | **Optimization Strategies Utilized** |\n",
    "|----------|----------|----------|\n",
    "| Naive | 279 seconds | Naive solution, utilized GROUP BY and ORDER BY with the COUNT function on (typeID)|\n",
    "| First Update | 9.297 seconds | First optimization, utilized WHERE statements to filter out null data, genres, and types |\n",
    "| Optimized | 3.0219 seconds (major difference) | Final optimized version, indexes were added on (genreID, tconst), and (typeID, tconst)|"
   ]
  },
  {
   "cell_type": "markdown",
   "id": "04ebcd7d",
   "metadata": {},
   "source": [
    "Naive"
   ]
  },
  {
   "cell_type": "code",
   "execution_count": null,
   "id": "f725e1c8",
   "metadata": {},
   "outputs": [],
   "source": [
    "%%sql\n",
    "\n",
    "SELECT typeID, count(typeID), genreName\n",
    "FROM title_ft\n",
    "JOIN title_genre_bridge ON title_ft.tconst = title_genre_bridge.tconst\n",
    "JOIN genre_dt\n",
    "ON title_genre_bridge.genreID = genre_dt.genreID\n",
    "GROUP BY typeID, genreName\n",
    "ORDER BY typeID ASC, genreName; "
   ]
  },
  {
   "cell_type": "markdown",
   "id": "8bd66b36",
   "metadata": {},
   "source": [
    "First Optimization"
   ]
  },
  {
   "cell_type": "code",
   "execution_count": null,
   "id": "d72641b0",
   "metadata": {},
   "outputs": [],
   "source": [
    "%%sql\n",
    "\n",
    "SELECT\n",
    "  tf.typeID,\n",
    "  COUNT(*)            AS cnt,\n",
    "  gd.genreName\n",
    "FROM title_genre_bridge tgb\n",
    "JOIN title_ft tf ON tgb.tconst = tf.tconst\n",
    "JOIN genre_dt  gd ON tgb.genreID = gd.genreID\n",
    "WHERE typeID is not null\n",
    "\tAND genreName = 'Action'\n",
    "    AND typeID = '1'\n",
    "GROUP BY tf.typeID, gd.genreName\n",
    "ORDER BY tf.typeID, gd.genreName;\n"
   ]
  },
  {
   "cell_type": "markdown",
   "id": "6fb24884",
   "metadata": {},
   "source": [
    "Final Optimization With Indexes"
   ]
  },
  {
   "cell_type": "code",
   "execution_count": null,
   "id": "774c3542",
   "metadata": {},
   "outputs": [],
   "source": [
    "%%sql\n",
    "\n",
    "CREATE INDEX idx_title_ft_typeid_tconst\n",
    "ON title_ft (typeID, tconst);\n",
    "\n",
    "CREATE INDEX idx_tgb_tconst_genreid\n",
    "ON title_genre_bridge (tconst, genreID);\n",
    "\n",
    "SELECT\n",
    "  tf.typeID,\n",
    "  COUNT(*)            AS cnt,\n",
    "  gd.genreName\n",
    "FROM title_genre_bridge tgb\n",
    "JOIN title_ft tf ON tgb.tconst = tf.tconst\n",
    "JOIN genre_dt  gd ON tgb.genreID = gd.genreID\n",
    "WHERE typeID is not null\n",
    "\tAND genreName = 'Action'\n",
    "    AND typeID = '1'\n",
    "GROUP BY tf.typeID, gd.genreName\n",
    "ORDER BY tf.typeID, gd.genreName;"
   ]
  }
 ],
 "metadata": {
  "kernelspec": {
   "display_name": "Python 3",
   "language": "python",
   "name": "python3"
  },
  "language_info": {
   "codemirror_mode": {
    "name": "ipython",
    "version": 3
   },
   "file_extension": ".py",
   "mimetype": "text/x-python",
   "name": "python",
   "nbconvert_exporter": "python",
   "pygments_lexer": "ipython3",
   "version": "3.13.5"
  }
 },
 "nbformat": 4,
 "nbformat_minor": 5
}
